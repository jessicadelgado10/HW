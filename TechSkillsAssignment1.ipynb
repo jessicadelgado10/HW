{
 "cells": [
  {
   "cell_type": "markdown",
   "metadata": {},
   "source": [
    "**1.**\n",
    "The radius of a circle is 5.5. Write a script to compute the area of a circle."
   ]
  },
  {
   "cell_type": "code",
   "execution_count": 1,
   "metadata": {},
   "outputs": [
    {
     "name": "stdout",
     "output_type": "stream",
     "text": [
      "94.985\n"
     ]
    }
   ],
   "source": [
    "pi = 3.14\n",
    "r = 5.5\n",
    "area = pi*r*r\n",
    "print (area)"
   ]
  },
  {
   "cell_type": "markdown",
   "metadata": {},
   "source": [
    "**2.**\n",
    "Write a program where Python prints your name, then print them in reverse order with a comma between them.  Put this in the same cell.    \n",
    "\n",
    "For example:\n",
    "\n",
    "Sophia Barrett    \n",
    "Barrett, Sophia"
   ]
  },
  {
   "cell_type": "code",
   "execution_count": 2,
   "metadata": {},
   "outputs": [
    {
     "name": "stdout",
     "output_type": "stream",
     "text": [
      "Jessica Delgado\n",
      "Delgado, Jessica\n"
     ]
    }
   ],
   "source": [
    "first_name= (\"Jessica\")\n",
    "last_name= (\"Delgado\")\n",
    "full_name = first_name +' '+ last_name\n",
    "print(full_name)\n",
    "print(last_name +', '+ first_name)"
   ]
  },
  {
   "cell_type": "markdown",
   "metadata": {},
   "source": [
    "**3.**  Write a program to test if a number is divisible by 5."
   ]
  },
  {
   "cell_type": "code",
   "execution_count": 3,
   "metadata": {},
   "outputs": [
    {
     "data": {
      "text/plain": [
       "0"
      ]
     },
     "execution_count": 3,
     "metadata": {},
     "output_type": "execute_result"
    }
   ],
   "source": [
    "10% 5\n",
    "num = 10\n",
    "num%5"
   ]
  },
  {
   "cell_type": "markdown",
   "metadata": {},
   "source": [
    "**4.**  What is the output of the following program?  \n",
    "\n",
    "a = 1  \n",
    "b = a * 2  \n",
    "c = 2 * b + 1  \n",
    "print(a)  \n",
    "print(b)  \n",
    "print(c)  "
   ]
  },
  {
   "cell_type": "code",
   "execution_count": 4,
   "metadata": {},
   "outputs": [
    {
     "name": "stdout",
     "output_type": "stream",
     "text": [
      "1 2 5\n"
     ]
    }
   ],
   "source": [
    "a = 1  \n",
    "b = a * 2  \n",
    "c = 2 * b + 1\n",
    "\n",
    "print(a,b,c)"
   ]
  },
  {
   "cell_type": "markdown",
   "metadata": {},
   "source": [
    "**5.**  What is the output of the following program?  \n",
    "\n",
    "a = 2  \n",
    "b = a * 2  \n",
    "c = b ** a  \n",
    "a = c % 2  \n",
    "print(a)  \n",
    "print(b)  \n",
    "print(c)  "
   ]
  },
  {
   "cell_type": "code",
   "execution_count": 5,
   "metadata": {},
   "outputs": [
    {
     "name": "stdout",
     "output_type": "stream",
     "text": [
      "0 4 16\n"
     ]
    }
   ],
   "source": [
    "a = 2  \n",
    "b = a * 2  \n",
    "c = b ** a  \n",
    "a = c % 2  \n",
    "\n",
    "print(a, b, c)"
   ]
  },
  {
   "cell_type": "markdown",
   "metadata": {},
   "source": [
    "**6.**    What is the output of the following program?  \n",
    "\n",
    "a = 5  \n",
    "b = a // 2  \n",
    "c = a / 2  \n",
    "a = a % 2  \n",
    "print(a)  \n",
    "print(b)  \n",
    "print(c)  "
   ]
  },
  {
   "cell_type": "code",
   "execution_count": 6,
   "metadata": {},
   "outputs": [
    {
     "name": "stdout",
     "output_type": "stream",
     "text": [
      "1 2 2.5\n"
     ]
    }
   ],
   "source": [
    "a = 5  \n",
    "b = a // 2  \n",
    "c = a / 2  \n",
    "a = a % 2  \n",
    "\n",
    "print(a,b,c)"
   ]
  },
  {
   "cell_type": "markdown",
   "metadata": {},
   "source": [
    "**7.**  Type each of the following commands.  Note each response.    \n",
    "print(\"Hello, world!\")    \n",
    "print(\"Hello\", \"world!\")  \n",
    "print(3)  \n",
    "print(3.0)  \n",
    "print(2 + 3)  \n",
    "print(2.0 + 3.0)  \n",
    "print(2 * 3)  \n",
    "print(2 ** 3)\n",
    "print(7 / 3)  \n",
    "print(7 // 3)  "
   ]
  },
  {
   "cell_type": "code",
   "execution_count": 7,
   "metadata": {},
   "outputs": [
    {
     "name": "stdout",
     "output_type": "stream",
     "text": [
      "Hello, world!\n",
      "Hello world!\n",
      "3\n",
      "3.0\n",
      "5\n",
      "5.0\n",
      "6\n",
      "8\n",
      "2.3333333333333335\n",
      "2\n"
     ]
    }
   ],
   "source": [
    "print(\"Hello, world!\")    \n",
    "print(\"Hello\", \"world!\")  \n",
    "print(3) #just an argument\n",
    "print(3.0)  \n",
    "print(2 + 3)# printing an expresson\n",
    "print(2.0 + 3.0)  # an expression ( something that has to be solved) sum of two floats, answer is a float\n",
    "print(2 * 3)  #integer\n",
    "print(2 ** 3)#\n",
    "print(7 / 3)  \n",
    "print(7 // 3) #floor division"
   ]
  },
  {
   "cell_type": "markdown",
   "metadata": {},
   "source": [
    "**8.**\n",
    "\n",
    "Create a program with a name and age.  Then have it print out a message addressed to name that tells them the year that they will turn 100 years old."
   ]
  },
  {
   "cell_type": "code",
   "execution_count": 8,
   "metadata": {},
   "outputs": [
    {
     "name": "stdout",
     "output_type": "stream",
     "text": [
      "Jessica Delgado will turn 100 in 2098\n"
     ]
    }
   ],
   "source": [
    "name = \"Jessica Delgado\"\n",
    "age = 22\n",
    "year = 2020 + (100-22)\n",
    "print(name, \"will turn 100 in\", year)"
   ]
  },
  {
   "cell_type": "markdown",
   "metadata": {},
   "source": [
    "**9.**  Create a sequence of numbers from 3 to 19, but increment by 2.  "
   ]
  },
  {
   "cell_type": "code",
   "execution_count": 9,
   "metadata": {},
   "outputs": [
    {
     "data": {
      "text/plain": [
       "[3, 5, 7, 9, 11, 13, 15, 17]"
      ]
     },
     "execution_count": 9,
     "metadata": {},
     "output_type": "execute_result"
    }
   ],
   "source": [
    "range(3,19,2)\n",
    "list(range(3,19,2))"
   ]
  },
  {
   "cell_type": "markdown",
   "metadata": {},
   "source": [
    "**10.**  Try to solve this problem on your own first, then check your results with python.    \n",
    "  \n",
    "  \n",
    "a = 21\n",
    "\n",
    "b = 10\n",
    "\n",
    "c = 0\n",
    "\n",
    "c = a + b\n",
    "print \"Line 1 - Value of c is \", c\n",
    "\n",
    "c += a\n",
    "print \"Line 2 - Value of c is \", c \n",
    "\n",
    "c *= a\n",
    "print \"Line 3 - Value of c is \", c \n",
    "\n",
    "c /= a \n",
    "print \"Line 4 - Value of c is \", c \n",
    "\n",
    "c  = 2\n",
    "\n",
    "c %= a\n",
    "print \"Line 5 - Value of c is \", c\n",
    "\n",
    "c **= a\n",
    "print \"Line 6 - Value of c is \", c\n",
    "\n",
    "c //= a print \"Line 7 - Value of c is \", c"
   ]
  },
  {
   "cell_type": "code",
   "execution_count": 12,
   "metadata": {},
   "outputs": [
    {
     "data": {
      "text/plain": [
       "31"
      ]
     },
     "execution_count": 12,
     "metadata": {},
     "output_type": "execute_result"
    }
   ],
   "source": [
    "21+10"
   ]
  },
  {
   "cell_type": "code",
   "execution_count": 13,
   "metadata": {},
   "outputs": [
    {
     "data": {
      "text/plain": [
       "52"
      ]
     },
     "execution_count": 13,
     "metadata": {},
     "output_type": "execute_result"
    }
   ],
   "source": [
    "31+21"
   ]
  },
  {
   "cell_type": "code",
   "execution_count": 14,
   "metadata": {},
   "outputs": [
    {
     "data": {
      "text/plain": [
       "1092"
      ]
     },
     "execution_count": 14,
     "metadata": {},
     "output_type": "execute_result"
    }
   ],
   "source": [
    "52*21"
   ]
  },
  {
   "cell_type": "code",
   "execution_count": 15,
   "metadata": {},
   "outputs": [
    {
     "data": {
      "text/plain": [
       "52.0"
      ]
     },
     "execution_count": 15,
     "metadata": {},
     "output_type": "execute_result"
    }
   ],
   "source": [
    "1092/ 21"
   ]
  },
  {
   "cell_type": "code",
   "execution_count": 16,
   "metadata": {},
   "outputs": [
    {
     "data": {
      "text/plain": [
       "2"
      ]
     },
     "execution_count": 16,
     "metadata": {},
     "output_type": "execute_result"
    }
   ],
   "source": [
    "2%21"
   ]
  },
  {
   "cell_type": "code",
   "execution_count": 17,
   "metadata": {},
   "outputs": [
    {
     "data": {
      "text/plain": [
       "12"
      ]
     },
     "execution_count": 17,
     "metadata": {},
     "output_type": "execute_result"
    }
   ],
   "source": [
    "54 % 21"
   ]
  },
  {
   "cell_type": "code",
   "execution_count": 18,
   "metadata": {},
   "outputs": [
    {
     "data": {
      "text/plain": [
       "46005119909369701466112"
      ]
     },
     "execution_count": 18,
     "metadata": {},
     "output_type": "execute_result"
    }
   ],
   "source": [
    "12 ** 21"
   ]
  },
  {
   "cell_type": "code",
   "execution_count": 19,
   "metadata": {},
   "outputs": [
    {
     "data": {
      "text/plain": [
       "2190719995684271498386"
      ]
     },
     "execution_count": 19,
     "metadata": {},
     "output_type": "execute_result"
    }
   ],
   "source": [
    "46005119909369701466112//21"
   ]
  },
  {
   "cell_type": "code",
   "execution_count": 34,
   "metadata": {
    "scrolled": true
   },
   "outputs": [],
   "source": [
    "\n",
    "a = 21\n",
    "\n",
    "b = 10\n",
    "\n",
    "c = 0"
   ]
  },
  {
   "cell_type": "code",
   "execution_count": 26,
   "metadata": {},
   "outputs": [
    {
     "data": {
      "text/plain": [
       "31"
      ]
     },
     "execution_count": 26,
     "metadata": {},
     "output_type": "execute_result"
    }
   ],
   "source": [
    "c = a+b\n",
    "c"
   ]
  },
  {
   "cell_type": "code",
   "execution_count": 27,
   "metadata": {},
   "outputs": [
    {
     "data": {
      "text/plain": [
       "52"
      ]
     },
     "execution_count": 27,
     "metadata": {},
     "output_type": "execute_result"
    }
   ],
   "source": [
    "c += a\n",
    "c"
   ]
  },
  {
   "cell_type": "code",
   "execution_count": 28,
   "metadata": {},
   "outputs": [
    {
     "data": {
      "text/plain": [
       "1092"
      ]
     },
     "execution_count": 28,
     "metadata": {},
     "output_type": "execute_result"
    }
   ],
   "source": [
    "c *= a\n",
    "c"
   ]
  },
  {
   "cell_type": "code",
   "execution_count": 29,
   "metadata": {},
   "outputs": [
    {
     "data": {
      "text/plain": [
       "52.0"
      ]
     },
     "execution_count": 29,
     "metadata": {},
     "output_type": "execute_result"
    }
   ],
   "source": [
    "c /= a \n",
    "c"
   ]
  },
  {
   "cell_type": "code",
   "execution_count": 30,
   "metadata": {},
   "outputs": [],
   "source": [
    "c  = 2"
   ]
  },
  {
   "cell_type": "code",
   "execution_count": 31,
   "metadata": {},
   "outputs": [
    {
     "data": {
      "text/plain": [
       "2"
      ]
     },
     "execution_count": 31,
     "metadata": {},
     "output_type": "execute_result"
    }
   ],
   "source": [
    "c %= a\n",
    "c"
   ]
  },
  {
   "cell_type": "code",
   "execution_count": 32,
   "metadata": {},
   "outputs": [
    {
     "data": {
      "text/plain": [
       "2097152"
      ]
     },
     "execution_count": 32,
     "metadata": {},
     "output_type": "execute_result"
    }
   ],
   "source": [
    "c **= a\n",
    "c"
   ]
  },
  {
   "cell_type": "code",
   "execution_count": 33,
   "metadata": {},
   "outputs": [
    {
     "data": {
      "text/plain": [
       "99864"
      ]
     },
     "execution_count": 33,
     "metadata": {},
     "output_type": "execute_result"
    }
   ],
   "source": [
    "c //= a\n",
    "c"
   ]
  },
  {
   "cell_type": "code",
   "execution_count": null,
   "metadata": {},
   "outputs": [],
   "source": []
  }
 ],
 "metadata": {
  "kernelspec": {
   "display_name": "Python 3",
   "language": "python",
   "name": "python3"
  },
  "language_info": {
   "codemirror_mode": {
    "name": "ipython",
    "version": 3
   },
   "file_extension": ".py",
   "mimetype": "text/x-python",
   "name": "python",
   "nbconvert_exporter": "python",
   "pygments_lexer": "ipython3",
   "version": "3.7.6"
  }
 },
 "nbformat": 4,
 "nbformat_minor": 2
}
